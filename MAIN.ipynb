{
 "cells": [
  {
   "cell_type": "code",
   "execution_count": null,
   "metadata": {},
   "outputs": [],
   "source": [
    "\"\"\"\n",
    "Author: Maciej Kaczkowski\n",
    "15.04-29.04.2021\n",
    "\"\"\"\n",
    "\n",
    "\n",
    "import numpy as np\n",
    "import pandas as pd\n",
    "import seaborn as sns\n",
    "import matplotlib.pyplot as plt\n",
    "\n",
    "from sklearn.metrics import confusion_matrix, precision_score, recall_score, f1_score, accuracy_score\n",
    "from sklearn.naive_bayes import GaussianNB\n",
    "\n",
    "from classifier import NaiveBayesClassifier"
   ]
  },
  {
   "cell_type": "code",
   "execution_count": null,
   "metadata": {},
   "outputs": [],
   "source": [
    "def calculate_metrics(y_test, y_pred):\n",
    "    cnf_mat = confusion_matrix(y_test, y_pred)\n",
    "    acc = accuracy_score(y_test, y_pred)\n",
    "    precision = precision_score(y_test, y_pred, average='macro')\n",
    "    recall = recall_score(y_test, y_pred, average='macro')\n",
    "    f_score = f1_score(y_test, y_pred, average='macro')\n",
    "    print('Accuracy: {}\\nPrecision: {}\\nRecall: {}\\nF1_score: {}'.format(\n",
    "        acc, precision, recall, f_score))\n",
    "    return cnf_mat\n",
    "\n",
    "def split_dataset(dataset: pd.DataFrame, train_frac):\n",
    "    train = dataset.sample(frac=train_frac, random_state=300660)\n",
    "    test = dataset.drop(train.index)\n",
    "    return train.drop(columns='class'), test.drop(columns='class'), \\\n",
    "           train['class'], test['class']"
   ]
  },
  {
   "cell_type": "code",
   "execution_count": null,
   "metadata": {},
   "outputs": [],
   "source": [
    "# reading clean dataset\n",
    "main_df = pd.read_csv(r'seeds_dataset_clean.txt', header=None, sep='\\t')\n",
    "main_df.columns = ['area', 'perimeter', 'compactness', 'kernel length',\n",
    "                    'kernel width', 'asymmetry coef.', 'groove length', 'class']\n",
    "\n",
    "\n",
    "nbc = NaiveBayesClassifier()\n",
    "gnb = GaussianNB()"
   ]
  },
  {
   "cell_type": "code",
   "execution_count": null,
   "metadata": {},
   "outputs": [],
   "source": [
    "# finding best train/(train+test) ratio\n",
    "train_fractions = np.linspace(start=0.1, stop=0.9, num=17)\n",
    "\n",
    "nbc_prediction_accuracies = np.zeros((17, 1))\n",
    "\n",
    "for idx, train_frac in enumerate(train_fractions):\n",
    "    X_train, X_test, y_train, y_test = split_dataset(main_df, train_frac=train_frac)\n",
    "    # alternatively sklearn.model_selection.train_test_split can be used\n",
    "    nbc.fit(X_train, y_train)\n",
    "    predictions = nbc.predict(X_test)\n",
    "    nbc_prediction_accuracies[idx] = accuracy_score(y_test, predictions)\n",
    "\n",
    "best_train_fraction_nbc = train_fractions[np.argmax(nbc_prediction_accuracies)]"
   ]
  },
  {
   "cell_type": "code",
   "execution_count": null,
   "metadata": {},
   "outputs": [],
   "source": [
    "gnb_prediction_accuracies = np.zeros((17, 1))\n",
    "\n",
    "for idx, train_frac in enumerate(train_fractions):\n",
    "    X_train, X_test, y_train, y_test = split_dataset(main_df, train_frac=train_frac)\n",
    "    # alternatively sklearn.model_selection.train_test_split can be used\n",
    "    gnb.fit(X_train, y_train)\n",
    "    predictions = gnb.predict(X_test)\n",
    "    gnb_prediction_accuracies[idx] = accuracy_score(y_test, predictions)\n",
    "\n",
    "best_train_fraction_gnb = train_fractions[np.argmax(gnb_prediction_accuracies)]"
   ]
  },
  {
   "cell_type": "code",
   "execution_count": null,
   "metadata": {},
   "outputs": [],
   "source": [
    "# plotting prediction_accuracy(train_fractions)\n",
    "plt.figure(1)\n",
    "plt.plot(train_fractions, nbc_prediction_accuracies)\n",
    "plt.title('Finding best train/(train+test) ratio')\n",
    "plt.xlabel('train_fraction')\n",
    "plt.ylabel('prediction_accuracy')"
   ]
  },
  {
   "cell_type": "code",
   "execution_count": null,
   "metadata": {},
   "outputs": [],
   "source": [
    "# plotting prediction_accuracy(train_fractions)\n",
    "plt.figure(2)\n",
    "plt.plot(train_fractions, gnb_prediction_accuracies)\n",
    "plt.title('Finding best train/(train+test) ratio')\n",
    "plt.xlabel('train_fraction')\n",
    "plt.ylabel('prediction_accuracy')"
   ]
  },
  {
   "cell_type": "code",
   "execution_count": null,
   "metadata": {},
   "outputs": [],
   "source": [
    "# plotting confusion matrix and classification metrics\n",
    "assert best_train_fraction_gnb == best_train_fraction_nbc\n",
    "X_train, X_test, y_train, y_test = split_dataset(main_df, train_frac=best_train_fraction_nbc)\n",
    "nbc.fit(X_train, y_train)\n",
    "nbc_predictions = nbc.predict(X_test)\n",
    "\n",
    "plt.figure(3)\n",
    "print(\"\\nNormal dataset metrics: \")\n",
    "cnf_mat = calculate_metrics(y_test, nbc_predictions)\n",
    "sns.heatmap(cnf_mat, annot=True, fmt='g')\n",
    "plt.title('Normal dataset confusion matrix')\n",
    "plt.ylabel('True label')\n",
    "plt.xlabel('Predicted label')"
   ]
  },
  {
   "cell_type": "code",
   "execution_count": null,
   "metadata": {},
   "outputs": [],
   "source": [
    "gnb.fit(X_train, y_train)\n",
    "gnb_predictions = gnb.predict(X_test)\n",
    "\n",
    "plt.figure(4)\n",
    "print(\"\\nNormal dataset metrics: \")\n",
    "cnf_mat = calculate_metrics(y_test, gnb_predictions)\n",
    "sns.heatmap(cnf_mat, annot=True, fmt='g')\n",
    "plt.title('Normal dataset confusion matrix')\n",
    "plt.ylabel('True label')\n",
    "plt.xlabel('Predicted label')"
   ]
  },
  {
   "cell_type": "code",
   "execution_count": null,
   "metadata": {},
   "outputs": [],
   "source": [
    "# checking if shuffling data makes any difference\n",
    "shuffled_df = main_df.sample(frac=1)\n",
    "X_train, X_test, y_train, y_test = split_dataset(shuffled_df, train_frac=best_train_fraction_nbc)\n",
    "nbc.fit(X_train, y_train)\n",
    "nbc_predictions = nbc.predict(X_test)\n",
    "\n",
    "plt.figure(5)\n",
    "print(\"\\nShuffled dataset metrics: \")\n",
    "cnf_mat = calculate_metrics(y_test, nbc_predictions)\n",
    "sns.heatmap(cnf_mat, annot=True, fmt='g')\n",
    "plt.title('Shuffled dataset confusion matrix')\n",
    "plt.ylabel('True label')\n",
    "plt.xlabel('Predicted label')"
   ]
  },
  {
   "cell_type": "code",
   "execution_count": null,
   "metadata": {},
   "outputs": [],
   "source": [
    "nbc.fit(X_train, y_train)\n",
    "nbc_predictions = nbc.predict(X_test)\n",
    "\n",
    "plt.figure(6)\n",
    "print(\"\\nShuffled dataset metrics: \")\n",
    "cnf_mat = calculate_metrics(y_test, nbc_predictions)\n",
    "sns.heatmap(cnf_mat, annot=True, fmt='g')\n",
    "plt.title('Shuffled dataset confusion matrix')\n",
    "plt.ylabel('True label')\n",
    "plt.xlabel('Predicted label')"
   ]
  }
 ],
 "metadata": {
  "interpreter": {
   "hash": "0fa46f97aec0ac674c853cdda64532d9bb221f78ba820e9a0a64ab2b4f38f102"
  },
  "kernelspec": {
   "display_name": "Python 3.9.9 ('venv': venv)",
   "language": "python",
   "name": "python3"
  },
  "language_info": {
   "codemirror_mode": {
    "name": "ipython",
    "version": 3
   },
   "file_extension": ".py",
   "mimetype": "text/x-python",
   "name": "python",
   "nbconvert_exporter": "python",
   "pygments_lexer": "ipython3",
   "version": "3.9.9"
  },
  "orig_nbformat": 4
 },
 "nbformat": 4,
 "nbformat_minor": 2
}
